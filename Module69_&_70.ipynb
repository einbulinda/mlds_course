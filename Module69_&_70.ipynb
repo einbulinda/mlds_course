{
  "nbformat": 4,
  "nbformat_minor": 0,
  "metadata": {
    "colab": {
      "provenance": [],
      "include_colab_link": true
    },
    "kernelspec": {
      "name": "python3",
      "display_name": "Python 3"
    },
    "language_info": {
      "name": "python"
    }
  },
  "cells": [
    {
      "cell_type": "markdown",
      "metadata": {
        "id": "view-in-github",
        "colab_type": "text"
      },
      "source": [
        "<a href=\"https://colab.research.google.com/github/einbulinda/mlds_course/blob/main/Module69_%26_70.ipynb\" target=\"_parent\"><img src=\"https://colab.research.google.com/assets/colab-badge.svg\" alt=\"Open In Colab\"/></a>"
      ]
    },
    {
      "cell_type": "code",
      "source": [
        "import sklearn\n",
        "print(sklearn.__version__)"
      ],
      "metadata": {
        "colab": {
          "base_uri": "https://localhost:8080/"
        },
        "id": "Hgvs6OAmiMV_",
        "outputId": "975f1a61-002a-4886-8fba-40a28ecf23d1"
      },
      "execution_count": null,
      "outputs": [
        {
          "output_type": "stream",
          "name": "stdout",
          "text": [
            "1.6.1\n"
          ]
        }
      ]
    },
    {
      "cell_type": "code",
      "source": [
        "pip install --upgrade scikit-learn"
      ],
      "metadata": {
        "colab": {
          "base_uri": "https://localhost:8080/"
        },
        "id": "k1weENnOiUHB",
        "outputId": "ed28fddb-9c60-4c0d-dce2-0d7d3d889c74"
      },
      "execution_count": null,
      "outputs": [
        {
          "output_type": "stream",
          "name": "stdout",
          "text": [
            "Requirement already satisfied: scikit-learn in /usr/local/lib/python3.11/dist-packages (1.6.1)\n",
            "Requirement already satisfied: numpy>=1.19.5 in /usr/local/lib/python3.11/dist-packages (from scikit-learn) (1.26.4)\n",
            "Requirement already satisfied: scipy>=1.6.0 in /usr/local/lib/python3.11/dist-packages (from scikit-learn) (1.13.1)\n",
            "Requirement already satisfied: joblib>=1.2.0 in /usr/local/lib/python3.11/dist-packages (from scikit-learn) (1.4.2)\n",
            "Requirement already satisfied: threadpoolctl>=3.1.0 in /usr/local/lib/python3.11/dist-packages (from scikit-learn) (3.5.0)\n"
          ]
        }
      ]
    },
    {
      "cell_type": "code",
      "execution_count": null,
      "metadata": {
        "colab": {
          "base_uri": "https://localhost:8080/"
        },
        "id": "AKSplzM9g5P9",
        "outputId": "df2fd06b-c2d6-4d85-a25e-d547d8faadf2"
      },
      "outputs": [
        {
          "output_type": "stream",
          "name": "stdout",
          "text": [
            "[[2 1 0 0]\n",
            " [0 1 0 2]\n",
            " [1 0 1 1]]\n"
          ]
        }
      ],
      "source": [
        "#BOW\n",
        "from sklearn.feature_extraction.text import CountVectorizer\n",
        "documents = [\"cat cat dog\",'dog mouse mouse', 'cat mouse elephant']\n",
        "vectorizer = CountVectorizer()\n",
        "bow_matrix = vectorizer.fit_transform(documents)\n",
        "print(bow_matrix.toarray())"
      ]
    },
    {
      "cell_type": "code",
      "source": [
        "#TF-IDF\n",
        "from sklearn.feature_extraction.text import TfidfVectorizer\n",
        "tfidfVectorizer = TfidfVectorizer()\n",
        "tfidfmatrix = tfidfVectorizer.fit_transform(documents)\n",
        "print(tfidfmatrix.toarray())"
      ],
      "metadata": {
        "colab": {
          "base_uri": "https://localhost:8080/"
        },
        "id": "h1r9Ygc7iwTC",
        "outputId": "666f88be-8f29-4be3-94ab-acecddb6880c"
      },
      "execution_count": null,
      "outputs": [
        {
          "output_type": "stream",
          "name": "stdout",
          "text": [
            "[[0.89442719 0.4472136  0.         0.        ]\n",
            " [0.         0.4472136  0.         0.89442719]\n",
            " [0.51785612 0.         0.68091856 0.51785612]]\n"
          ]
        }
      ]
    },
    {
      "cell_type": "code",
      "source": [
        "from sklearn.feature_extraction.text import CountVectorizer\n",
        "# Sample Reviews\n",
        "reviews = [\n",
        "    \"The movie was good and we really like it\",\n",
        "    \"The movie was good but the ending was boring\",\n",
        "    \"We did not like the movie as it was too lengthy\"\n",
        "]\n",
        "# Initialize BoW Model\n",
        "vectorizer = CountVectorizer(stop_words=\"english\")\n",
        "bow_matrix = vectorizer.fit_transform(reviews)\n",
        "# Convert BoW to a DataFrame\n",
        "import pandas as pd\n",
        "bow_df = pd.DataFrame(bow_matrix.toarray(), columns=vectorizer.get_feature_names_out())\n",
        "# Display the DataFrame\n",
        "print(bow_df)"
      ],
      "metadata": {
        "colab": {
          "base_uri": "https://localhost:8080/"
        },
        "id": "DqIjksXjjT5V",
        "outputId": "ee081986-7141-4788-8cfa-89a839ba35b2"
      },
      "execution_count": null,
      "outputs": [
        {
          "output_type": "stream",
          "name": "stdout",
          "text": [
            "   boring  did  ending  good  lengthy  like  movie  really\n",
            "0       0    0       0     1        0     1      1       1\n",
            "1       1    0       1     1        0     0      1       0\n",
            "2       0    1       0     0        1     1      1       0\n"
          ]
        }
      ]
    },
    {
      "cell_type": "code",
      "source": [
        "from textblob import TextBlob\n",
        "text = 'The product is absolutely amazing! I love it.'\n",
        "blob = TextBlob(text)\n",
        "sentiment = blob.sentiment.polarity\n",
        "print(sentiment)\n",
        "print(blob.sentiment.subjectivity)"
      ],
      "metadata": {
        "colab": {
          "base_uri": "https://localhost:8080/"
        },
        "id": "13nqIUfDj2Db",
        "outputId": "7d2e975c-582a-4d2d-980b-955e1c9c14ba"
      },
      "execution_count": null,
      "outputs": [
        {
          "output_type": "stream",
          "name": "stdout",
          "text": [
            "0.625\n",
            "0.75\n"
          ]
        }
      ]
    },
    {
      "cell_type": "code",
      "source": [
        "blob = TextBlob('great')\n",
        "print(blob.sentiment)"
      ],
      "metadata": {
        "colab": {
          "base_uri": "https://localhost:8080/"
        },
        "id": "w4y3yN5zm9VB",
        "outputId": "85b14689-d28d-4238-e9cc-96f1b38940c8"
      },
      "execution_count": null,
      "outputs": [
        {
          "output_type": "stream",
          "name": "stdout",
          "text": [
            "Sentiment(polarity=0.8, subjectivity=0.75)\n"
          ]
        }
      ]
    },
    {
      "cell_type": "code",
      "source": [],
      "metadata": {
        "id": "BOiiR9TKneyF"
      },
      "execution_count": null,
      "outputs": []
    }
  ]
}